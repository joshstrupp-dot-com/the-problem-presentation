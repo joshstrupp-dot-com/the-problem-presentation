{
 "cells": [
  {
   "cell_type": "code",
   "execution_count": 3,
   "metadata": {},
   "outputs": [
    {
     "name": "stdout",
     "output_type": "stream",
     "text": [
      "Columns in the dataset:\n",
      "['name', 'summary', 'url', 'image_url', 'is_bt', 'bt_source', 'author_clean', 'author_num_books', 'author_num_followers', 'cred_score', 'author_bio', 'genres', 'problem_sentence', 'keywords', 'star_rating', 'num_ratings', 'num_reviews', 'historical_context', 'publication_reason', 'currently_reading', 'want_to_read', 'kindle_price_clean', 'spectrum_clean', 'methodology_clean', 'tone_clean', 'style_clean', 'key_cat_primary', 'key_cat_primary_agg', 'problem_origin', 'audience_cat', 'problem_cat', 'solution_cat', 'first_published', 'year_published_numeric', 'year_bin_5yr', 'year_bin_10yr']\n",
      "\n",
      "Data types and non-null counts:\n",
      "<class 'pandas.core.frame.DataFrame'>\n",
      "RangeIndex: 22784 entries, 0 to 22783\n",
      "Data columns (total 36 columns):\n",
      " #   Column                  Non-Null Count  Dtype  \n",
      "---  ------                  --------------  -----  \n",
      " 0   name                    22784 non-null  object \n",
      " 1   summary                 22784 non-null  object \n",
      " 2   url                     22784 non-null  object \n",
      " 3   image_url               2336 non-null   object \n",
      " 4   is_bt                   9 non-null      object \n",
      " 5   bt_source               9 non-null      object \n",
      " 6   author_clean            22784 non-null  object \n",
      " 7   author_num_books        2338 non-null   float64\n",
      " 8   author_num_followers    2323 non-null   float64\n",
      " 9   cred_score              1777 non-null   object \n",
      " 10  author_bio              1663 non-null   object \n",
      " 11  genres                  22784 non-null  object \n",
      " 12  problem_sentence        2338 non-null   object \n",
      " 13  keywords                2338 non-null   object \n",
      " 14  star_rating             22784 non-null  float64\n",
      " 15  num_ratings             22784 non-null  float64\n",
      " 16  num_reviews             22761 non-null  float64\n",
      " 17  historical_context      2338 non-null   object \n",
      " 18  publication_reason      2121 non-null   object \n",
      " 19  currently_reading       2333 non-null   float64\n",
      " 20  want_to_read            2333 non-null   float64\n",
      " 21  kindle_price_clean      18376 non-null  float64\n",
      " 22  spectrum_clean          22784 non-null  object \n",
      " 23  methodology_clean       22784 non-null  object \n",
      " 24  tone_clean              22784 non-null  object \n",
      " 25  style_clean             22784 non-null  object \n",
      " 26  key_cat_primary         22784 non-null  object \n",
      " 27  key_cat_primary_agg     22784 non-null  object \n",
      " 28  problem_origin          22784 non-null  object \n",
      " 29  audience_cat            22415 non-null  object \n",
      " 30  problem_cat             22415 non-null  object \n",
      " 31  solution_cat            22415 non-null  object \n",
      " 32  first_published         22784 non-null  object \n",
      " 33  year_published_numeric  22784 non-null  float64\n",
      " 34  year_bin_5yr            22784 non-null  object \n",
      " 35  year_bin_10yr           22784 non-null  object \n",
      "dtypes: float64(9), object(27)\n",
      "memory usage: 6.3+ MB\n",
      "None\n"
     ]
    },
    {
     "name": "stderr",
     "output_type": "stream",
     "text": [
      "/var/folders/pc/j_zmpc9s0g9frv2jzfv1l51c0000gn/T/ipykernel_41968/3425879012.py:4: DtypeWarning: Columns (3,4,5,9,10,12,13,17,18) have mixed types. Specify dtype option on import or set low_memory=False.\n",
      "  df = pd.read_csv('sh_0415_time/sh_0415_time.csv')\n"
     ]
    }
   ],
   "source": [
    "import pandas as pd\n",
    "\n",
    "# Read the CSV file\n",
    "df = pd.read_csv('sh_0415_time/sh_0415_time.csv')\n",
    "\n",
    "# Display column names\n",
    "print(\"Columns in the dataset:\")\n",
    "print(df.columns.tolist())\n",
    "\n",
    "# Display data types and non-null counts\n",
    "print(\"\\nData types and non-null counts:\")\n",
    "print(df.info())\n"
   ]
  },
  {
   "cell_type": "code",
   "execution_count": null,
   "metadata": {},
   "outputs": [],
   "source": []
  }
 ],
 "metadata": {
  "kernelspec": {
   "display_name": "my_env",
   "language": "python",
   "name": "my_env"
  },
  "language_info": {
   "codemirror_mode": {
    "name": "ipython",
    "version": 3
   },
   "file_extension": ".py",
   "mimetype": "text/x-python",
   "name": "python",
   "nbconvert_exporter": "python",
   "pygments_lexer": "ipython3",
   "version": "3.12.4"
  }
 },
 "nbformat": 4,
 "nbformat_minor": 2
}
